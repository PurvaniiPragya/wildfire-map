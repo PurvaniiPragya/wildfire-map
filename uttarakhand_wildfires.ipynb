{
 "cells": [
  {
   "cell_type": "markdown",
   "id": "69633c7e-8a42-462d-9b3d-d328bbf635ef",
   "metadata": {},
   "source": [
    "<font size=\"5\">Interactive Wildfire Map for Uttarakhand, India</font>\n",
    "\n",
    "This project has been inspired by the paper, Hotspot and trend analysis of forest fires and its relation to climatic factors in the western Himalayas, linked below. The paper studies wildfire patterns in the Western Himalayan region over the course of 2001 - 2020 with the conclusion that Uttarakhand experiences the most number of wildfires around the year with a spike in the month of May and a drop after Monsoon. \n",
    "\n",
    "Through this project I have attempted to reproduce the findings of the paper utilizing the wildfire data from the year 2024 and the boundary of the state of Uttarakhand, India. The output html file features a dropdown to select month so you can see for yourself how the conclusion of the paper holds.\n",
    "\n",
    "<a href= \"https://link.springer.com/article/10.1007/s11069-022-05530-5\" target= \"_blank\">Kumar, Sunil, and Amit Kumar. “Hotspot and trend analysis of forest fires and its relation to climatic factors in the western Himalayas.” Natural hazards (Dordrecht, Netherlands) vol. 114,3 (2022): 3529-3544. doi:10.1007/s11069-022-05530-5</a>"
   ]
  },
  {
   "cell_type": "code",
   "execution_count": 1,
   "id": "7ed29bd8-f3f2-43f2-bf70-320db984701a",
   "metadata": {},
   "outputs": [],
   "source": [
    "# Importing necessary packages\n",
    "import pandas as pd\n",
    "import geopandas as gpd\n",
    "import plotly.express as px\n",
    "import plotly.graph_objects as go\n",
    "import calendar\n",
    "from IPython.display import display"
   ]
  },
  {
   "cell_type": "code",
   "execution_count": 2,
   "id": "ff54866b-4a10-43ca-9f98-3ebf630055b8",
   "metadata": {},
   "outputs": [
    {
     "name": "stdout",
     "output_type": "stream",
     "text": [
      "Data points from the month of January 2024 up till May is:  10419 \n",
      " Data points from June to August is:  2191\n"
     ]
    }
   ],
   "source": [
    "# Reading shapefiles into geodataframes\n",
    "fires_jan_may = gpd.read_file(\"F:/spatial_analysis/project_1/DL_FIRE_M-C61_519846/fire_archive_M-C61_519846.shp\")\n",
    "fires_jun_aug = gpd.read_file(\"F:/spatial_analysis/project_1/DL_FIRE_M-C61_519846/fire_nrt_M-C61_519846.shp\")\n",
    "uttarakhand = gpd.read_file(\"F:/spatial_analysis/project_1/uttarakhand.shp\")\n",
    "\n",
    "# Printing the shapes of the two fire geodataframes\n",
    "print(\"Data points from the month of January 2024 up till May is: \", \n",
    "      fires_jan_may.shape[0], \n",
    "      '\\n',\n",
    "      \"Data points from June to August is: \", \n",
    "      fires_jun_aug.shape[0])"
   ]
  },
  {
   "cell_type": "code",
   "execution_count": 3,
   "id": "db680cc9-56e4-4bd4-b792-786da9f08f9b",
   "metadata": {},
   "outputs": [
    {
     "name": "stdout",
     "output_type": "stream",
     "text": [
      "12610\n"
     ]
    }
   ],
   "source": [
    "# Combining the data from January to August to create one geodataframe \n",
    "fires = gpd.GeoDataFrame(pd.concat([fires_jan_may, fires_jun_aug], ignore_index= True))\n",
    "\n",
    "# Confirming the shape of the geodataframe\n",
    "print(fires.shape[0])"
   ]
  },
  {
   "cell_type": "code",
   "execution_count": 4,
   "id": "293d219f-b6b9-4897-ae70-b989572b896a",
   "metadata": {},
   "outputs": [
    {
     "name": "stdout",
     "output_type": "stream",
     "text": [
      "Index(['LATITUDE', 'LONGITUDE', 'BRIGHTNESS', 'SCAN', 'TRACK', 'ACQ_DATE',\n",
      "       'ACQ_TIME', 'SATELLITE', 'INSTRUMENT', 'CONFIDENCE', 'VERSION',\n",
      "       'BRIGHT_T31', 'FRP', 'DAYNIGHT', 'TYPE', 'fid', 'GID_1', 'GID_0',\n",
      "       'COUNTRY', 'NAME_1', 'VARNAME_1', 'NL_NAME_1', 'TYPE_1', 'ENGTYPE_1',\n",
      "       'CC_1', 'HASC_1', 'ISO_1', 'geometry'],\n",
      "      dtype='object') \n",
      "\n"
     ]
    }
   ],
   "source": [
    "# Extracting data points that intersect the boundary of Uttarakhand and creating a new geodataframe\n",
    "uttarakhand_fires = gpd.overlay(df1= fires, df2= uttarakhand, how= \"intersection\", keep_geom_type= True)\n",
    "\n",
    "# Printing all the columns in the uttarakhand_fires geodataframe\n",
    "print(uttarakhand_fires.columns, '\\n')"
   ]
  },
  {
   "cell_type": "code",
   "execution_count": 5,
   "id": "3fef7d9f-f5ff-4e19-ad34-36041dd135fe",
   "metadata": {},
   "outputs": [
    {
     "name": "stdout",
     "output_type": "stream",
     "text": [
      "Index(['latitude', 'longitude', 'brightness', 'scan', 'track', 'acq_date',\n",
      "       'acq_time', 'satellite', 'instrument', 'confidence', 'version',\n",
      "       'bright_t31', 'frp', 'daynight', 'geometry'],\n",
      "      dtype='object')\n"
     ]
    }
   ],
   "source": [
    "# Removing dataframes that will not be necessary for our analysis\n",
    "uttarakhand_fires = uttarakhand_fires.drop(columns= ['TYPE', 'fid', 'GID_1', 'GID_0',\n",
    "       'COUNTRY', 'NAME_1', 'VARNAME_1', 'NL_NAME_1', 'TYPE_1', 'ENGTYPE_1',\n",
    "       'CC_1', 'HASC_1', 'ISO_1'])\n",
    "\n",
    "# Converting column names to lowercase for ease and uniformity\n",
    "uttarakhand_fires.columns = uttarakhand_fires.columns.str.lower()\n",
    "print(uttarakhand_fires.columns)"
   ]
  },
  {
   "cell_type": "code",
   "execution_count": 6,
   "id": "e53b6447-8883-400d-81d5-477a26b93fc4",
   "metadata": {},
   "outputs": [
    {
     "name": "stdout",
     "output_type": "stream",
     "text": [
      "   month  fire_count_per_month\n",
      "0      1                   289\n",
      "1      2                   112\n",
      "2      3                    72\n",
      "3      4                   867\n",
      "4      5                   939\n",
      "5      6                   443\n",
      "6      7                     4\n",
      "7      8                     6\n"
     ]
    }
   ],
   "source": [
    "# Creating a month column by extracting month from the date column \n",
    "uttarakhand_fires['month'] = uttarakhand_fires['acq_date'].dt.month\n",
    "\n",
    "# Creating a month name column for better user readability\n",
    "uttarakhand_fires['month_name'] = uttarakhand_fires['acq_date'].dt.month_name\n",
    "uttarakhand_fires['acq_date'] = uttarakhand_fires['acq_date'].astype(str)\n",
    "\n",
    "# Creating a geodataframe containing the number of wildfire occurences per month\n",
    "wildfire_count_per_month = uttarakhand_fires.groupby(['month']).size().reset_index(name='fire_count_per_month')\n",
    "print(wildfire_count_per_month)"
   ]
  },
  {
   "cell_type": "code",
   "execution_count": 7,
   "id": "51eda948-6c02-461b-8e06-659b2b3b9b79",
   "metadata": {},
   "outputs": [
    {
     "name": "stdout",
     "output_type": "stream",
     "text": [
      "   latitude  longitude  brightness  scan  track    acq_date acq_time  \\\n",
      "0   31.0805    78.2029       300.8   1.5    1.2  2024-01-01     0522   \n",
      "1   29.3042    79.9958       300.9   1.0    1.0  2024-01-01     0821   \n",
      "\n",
      "  satellite instrument  confidence version  bright_t31   frp daynight  \\\n",
      "0     Terra      MODIS          18   61.03       284.3  11.5        D   \n",
      "1      Aqua      MODIS          37   61.03       290.0   4.0        D   \n",
      "\n",
      "                  geometry  month  \\\n",
      "0  POINT (78.2029 31.0805)      1   \n",
      "1  POINT (79.9958 29.3042)      1   \n",
      "\n",
      "                                          month_name  fire_count_per_month  \n",
      "0  <bound method PandasDelegate._add_delegate_acc...                   289  \n",
      "1  <bound method PandasDelegate._add_delegate_acc...                   289  \n"
     ]
    }
   ],
   "source": [
    "# Merging the wildfire count per month geodataframe to the uttarakhand fires \n",
    "uttarakhand_fires = uttarakhand_fires.merge(wildfire_count_per_month, on = ['month'], how = 'left')\n",
    "print(uttarakhand_fires.head(2))"
   ]
  },
  {
   "cell_type": "code",
   "execution_count": 8,
   "id": "190d0c4c-2aa7-4b7d-8d83-50e7a52e17dc",
   "metadata": {},
   "outputs": [
    {
     "name": "stderr",
     "output_type": "stream",
     "text": [
      "C:\\Users\\windows\\AppData\\Local\\Temp\\ipykernel_5340\\1431092720.py:30: UserWarning: Geometry is in a geographic CRS. Results from 'centroid' are likely incorrect. Use 'GeoSeries.to_crs()' to re-project geometries to a projected CRS before this operation.\n",
      "\n",
      "  center={\"lat\": uttarakhand.geometry.centroid.y.mean(), \"lon\": uttarakhand.geometry.centroid.x.mean()},\n"
     ]
    }
   ],
   "source": [
    "# Creating an interactive map \n",
    "def generate_interactive_map():\n",
    "    \n",
    "    # Creating traces for each month\n",
    "    data = []\n",
    "    # List for fire counts each month\n",
    "    fire_counts = []\n",
    "\n",
    "    for month in range(1, 9):  # Months from January to August\n",
    "        fires_in_month = uttarakhand_fires[uttarakhand_fires['month'] == month]\n",
    "        fire_count = fires_in_month.shape[0]  # Calculate fire count for each month\n",
    "        fire_counts.append(fire_count)  # Storing fire count\n",
    "        \n",
    "        trace = go.Scattermapbox(\n",
    "            lat=fires_in_month.geometry.y,\n",
    "            lon=fires_in_month.geometry.x,\n",
    "            mode='markers',\n",
    "            marker=go.scattermapbox.Marker(size=7, color='firebrick'),\n",
    "            text=fires_in_month['acq_date'],\n",
    "            hoverinfo='text',\n",
    "            name=calendar.month_name[month],\n",
    "            visible=(month == 1)\n",
    "        )\n",
    "        data.append(trace)\n",
    "\n",
    "    # Setting up the map layout\n",
    "    layout = go.Layout(\n",
    "        mapbox=dict(\n",
    "            style=\"carto-positron\",\n",
    "            center={\"lat\": uttarakhand.geometry.centroid.y.mean(), \"lon\": uttarakhand.geometry.centroid.x.mean()},\n",
    "            zoom=7\n",
    "        ),\n",
    "        title=f\"Wildfires in Uttarakhand in 2024 - Monthly total: {fire_counts[0]}\",  # Initially set to January's count\n",
    "        margin={\"r\": 0, \"t\": 100, \"l\": 0, \"b\": 50},  # Adjusted bottom margin for footer space\n",
    "        updatemenus=[\n",
    "            dict(\n",
    "                active=0,\n",
    "                buttons=[\n",
    "                    dict(label=calendar.month_name[i],\n",
    "                         method=\"update\",\n",
    "                         args=[{\"visible\": [i == month for month in range(1, 9)]},\n",
    "                                {\"title\": f\"Wildfires in Uttarakhand in 2024 - Monthly total : {fire_counts[i-1]}\"}])  # Update title\n",
    "                    for i in range(1, 9)\n",
    "                ],\n",
    "                direction=\"down\",\n",
    "                showactive=True,\n",
    "            )\n",
    "        ],\n",
    "         annotations=[\n",
    "    \n",
    "            dict(\n",
    "                text=\"Created by: Purvanii Pragya\",\n",
    "                showarrow=False,\n",
    "                xref=\"paper\", yref=\"paper\",\n",
    "                x=0.5, y=-0.02, \n",
    "                xanchor=\"center\", yanchor=\"top\",\n",
    "                font=dict(size=12, color='#333333'),\n",
    "                align=\"center\",\n",
    "                width=400\n",
    "            ),\n",
    "           \n",
    "            dict(\n",
    "                text=\"Data Source: <a href='https://firms.modaps.eosdis.nasa.gov/' target='_blank' style='color:blue;'>NASA FIRMS</a>\",\n",
    "                showarrow=False,\n",
    "                xref=\"paper\", yref=\"paper\",\n",
    "                x=0.5, y=-0.06, \n",
    "                xanchor=\"center\", yanchor=\"top\",\n",
    "                font=dict(size=12, color='#333333'),\n",
    "                align=\"center\",\n",
    "                width=400\n",
    "            )\n",
    "        ]\n",
    "    )\n",
    "\n",
    "\n",
    "    # Creating the figure\n",
    "    fig = go.Figure(data=data, layout=layout)\n",
    "    return fig\n",
    "\n",
    "\n",
    "# Generating the interactive map\n",
    "interactive_map = generate_interactive_map()\n",
    "\n",
    "# Saving the map in an html file\n",
    "interactive_map.write_html(\"interactive_wildfire_map_with_dropdown.html\")"
   ]
  },
  {
   "cell_type": "code",
   "execution_count": null,
   "id": "a8fe547a-64c4-433e-9ee0-5c25dcdfb1d6",
   "metadata": {},
   "outputs": [],
   "source": []
  }
 ],
 "metadata": {
  "kernelspec": {
   "display_name": "Python 3 (ipykernel)",
   "language": "python",
   "name": "python3"
  },
  "language_info": {
   "codemirror_mode": {
    "name": "ipython",
    "version": 3
   },
   "file_extension": ".py",
   "mimetype": "text/x-python",
   "name": "python",
   "nbconvert_exporter": "python",
   "pygments_lexer": "ipython3",
   "version": "3.12.6"
  }
 },
 "nbformat": 4,
 "nbformat_minor": 5
}
